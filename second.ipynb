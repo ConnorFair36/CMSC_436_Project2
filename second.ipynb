{
 "cells": [
  {
   "cell_type": "code",
   "execution_count": 30,
   "id": "81210354-d95d-4e9f-ab32-094419ab36d7",
   "metadata": {},
   "outputs": [],
   "source": [
    "import pandas as pd\n",
    "import numpy as np\n",
    "from sklearn.metrics import confusion_matrix, ConfusionMatrixDisplay, mean_squared_error\n",
    "from sklearn.model_selection import train_test_split\n",
    "np.random.seed(42) # set seed to keep results reproducable"
   ]
  },
  {
   "cell_type": "code",
   "execution_count": 9,
   "id": "d6c75f6d-61a2-4014-91c9-c92eb3d7f74c",
   "metadata": {},
   "outputs": [],
   "source": [
    "# download all of the datasets into a list of dataframes\n",
    "group_names = ['groupA', 'groupB', 'groupC']\n",
    "datasets = []\n",
    "for name in group_names:\n",
    "    datasets.append(pd.read_csv(f\"./Project2_Data/{name}.txt\", header=None))\n",
    "    # normalize each column 0 and 1\n",
    "    for i in range(2):\n",
    "        datasets[-1][i] = datasets[-1][i]/max(datasets[-1][i])\n",
    "# convert all datasets to numpy matrixes\n",
    "datasets = [dataset.to_numpy() for dataset in datasets]"
   ]
  },
  {
   "cell_type": "markdown",
   "id": "df613616-2eb7-42ed-ac12-de8459d232c3",
   "metadata": {},
   "source": [
    " The unipolar activiation function: $\\frac{1}{1 + e^{-k*net}}$"
   ]
  },
  {
   "cell_type": "code",
   "execution_count": 168,
   "id": "1956df2d-7ad1-4405-b19f-23a51c22fe86",
   "metadata": {},
   "outputs": [],
   "source": [
    "class Perceptron:\n",
    "    def __init__(self, k: float, a: float):\n",
    "        \"\"\"\n",
    "        Initalizes a new perceptron.\n",
    "\n",
    "        Args:\n",
    "            k: The gain for the activation function.\n",
    "            a: The learning rate\n",
    "        \"\"\"\n",
    "        self.weights = np.random.rand(3) - 0.5\n",
    "        self.k = k\n",
    "        self.a = a\n",
    "\n",
    "    def _activation_func(self, x) -> float:\n",
    "        \"\"\"Calculated the activation function on input.\"\"\"\n",
    "        return 1/(1 + np.exp(-self.k * x))\n",
    "\n",
    "    def fit(self, x: np.array, true_y: np.array, error_thres: float, max_epochs: int=5000):\n",
    "        \"\"\"\n",
    "        Fits the perceptron to the input dataset.\n",
    "\n",
    "        Args:\n",
    "            x: The input test data\n",
    "            true_y: The actual classification for the input classes\n",
    "            error_thres: The amount of error that the model should stop training at\n",
    "            max_epochs: The max number of times the model should be trained on the dataset\n",
    "        \"\"\"\n",
    "        # add a column of 1's to make calculations simpler\n",
    "        extra_col = np.ones(x.shape[0], dtype=x.dtype)\n",
    "        x = np.column_stack((x, extra_col))\n",
    "        print(mean_squared_error(true_y, self._activation_func(x @ self.weights)))\n",
    "\n",
    "        # training the model\n",
    "        for _ in range(max_epochs):\n",
    "            for pattern, true_val in zip(x, true_y):\n",
    "                prediction = self._activation_func(np.dot(pattern, self.weights))\n",
    "                # find change in weights\n",
    "                delta_w = self.a * (true_val - prediction) * pattern\n",
    "                # update weights\n",
    "                self.weights += delta_w\n",
    "            # calculate the mean squared error to see if more training is needed\n",
    "            if mean_squared_error(true_y, self._activation_func(x @ self.weights)) < error_thres:\n",
    "                break\n",
    "        print(mean_squared_error(true_y, self._activation_func(x @ self.weights)))\n",
    "\n",
    "    \n",
    "    def eval(self, x: np.array) -> np.array:\n",
    "        \"\"\"Calculates the model's prediction on x.\"\"\"\n",
    "        extra_col = np.ones(x.shape[0], dtype=x.dtype)\n",
    "        x = np.column_stack((x, extra_col))\n",
    "        return self._activation_func(x @ self.weights)"
   ]
  },
  {
   "cell_type": "markdown",
   "id": "83fe50dd-1cc2-4787-b576-38b2effa6e97",
   "metadata": {},
   "source": [
    "An example of using this class on group A dataset"
   ]
  },
  {
   "cell_type": "code",
   "execution_count": 169,
   "id": "986d46b4-64ed-40f5-beff-a946e6b7a6f3",
   "metadata": {},
   "outputs": [],
   "source": [
    "percept_test = Perceptron(k=30, a=0.001)\n",
    "X = datasets[0][:,:2]\n",
    "true_y = datasets[0][:,2]"
   ]
  },
  {
   "cell_type": "code",
   "execution_count": 171,
   "id": "5aac9aa5-4bcc-49a5-b1e1-8ecc41933223",
   "metadata": {
    "scrolled": true
   },
   "outputs": [
    {
     "name": "stdout",
     "output_type": "stream",
     "text": [
      "0.49951558148112923\n",
      "9.998432886937813e-06\n"
     ]
    }
   ],
   "source": [
    "percept_test.fit(X, true_y, error_thres=0.00001, max_epochs=5000)"
   ]
  },
  {
   "cell_type": "code",
   "execution_count": 173,
   "id": "d1be7b11-5767-4f19-b121-4fdcc67c6114",
   "metadata": {},
   "outputs": [
    {
     "data": {
      "text/plain": [
       "9.998432886937813e-06"
      ]
     },
     "execution_count": 173,
     "metadata": {},
     "output_type": "execute_result"
    }
   ],
   "source": [
    "mean_squared_error(true_y, percept_test.eval(X))"
   ]
  }
 ],
 "metadata": {
  "kernelspec": {
   "display_name": "Python (my-project)",
   "language": "python",
   "name": "my-project"
  },
  "language_info": {
   "codemirror_mode": {
    "name": "ipython",
    "version": 3
   },
   "file_extension": ".py",
   "mimetype": "text/x-python",
   "name": "python",
   "nbconvert_exporter": "python",
   "pygments_lexer": "ipython3",
   "version": "3.12.8"
  }
 },
 "nbformat": 4,
 "nbformat_minor": 5
}
